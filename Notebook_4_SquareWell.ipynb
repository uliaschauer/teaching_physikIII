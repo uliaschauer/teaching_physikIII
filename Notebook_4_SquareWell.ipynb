{
 "cells": [
  {
   "cell_type": "code",
   "execution_count": null,
   "metadata": {},
   "outputs": [],
   "source": [
    "%matplotlib widget\n",
    "import ipywidgets as widgets\n",
    "import matplotlib.pyplot as plt\n",
    "import matplotlib.patches as patches\n",
    "import numpy as np\n",
    "\n",
    "#initial values\n",
    "n0=1\n",
    "\n",
    "#create data\n",
    "x = np.arange(0, 1, 0.001)\n",
    "def psi(x, n):\n",
    "    return np.sqrt(2)*np.sin(n * np.pi * x)\n",
    "y = psi(x, n0)\n",
    "\n",
    "#create plot\n",
    "fig, ax = plt.subplots()\n",
    "curve1, = ax.plot(x, y, lw=2, color='red')\n",
    "ax.set_xlim(-0.5, 1.5)\n",
    "ax.set_ylim(-1.5, 1.5)\n",
    "ax.set_xlabel('x')\n",
    "ax.set_ylabel('Wellenfunktion')\n",
    "ax.add_patch(patches.Rectangle((-1.0, -1.5), 1.0, 4.0, alpha=0.2))\n",
    "ax.add_patch(patches.Rectangle((1.0, -1.5), 1.0, 4.0, alpha=0.2))\n",
    "\n",
    "@widgets.interact(n=(1,100), probability=False)\n",
    "def update(n=n0, probability=False):\n",
    "    if not probability:\n",
    "        curve1.set_ydata(psi(x, n))\n",
    "        ax.set_ylabel('Wellenfunktion')\n",
    "        ax.set_ylim(-1.5, 1.5)\n",
    "    else:\n",
    "        curve1.set_ydata(psi(x, n)**2)\n",
    "        ax.set_ylabel('Wahrscheinlichkeitsdichte')\n",
    "        ax.set_ylim(0.0, 2.5)"
   ]
  }
 ],
 "metadata": {
  "anaconda-cloud": {},
  "kernelspec": {
   "display_name": "Python 3",
   "language": "python",
   "name": "python3"
  },
  "language_info": {
   "codemirror_mode": {
    "name": "ipython",
    "version": 3
   },
   "file_extension": ".py",
   "mimetype": "text/x-python",
   "name": "python",
   "nbconvert_exporter": "python",
   "pygments_lexer": "ipython3",
   "version": "3.7.4"
  }
 },
 "nbformat": 4,
 "nbformat_minor": 1
}
