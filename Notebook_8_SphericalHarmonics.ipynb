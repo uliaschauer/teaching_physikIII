{
 "cells": [
  {
   "cell_type": "code",
   "execution_count": 1,
   "metadata": {
    "scrolled": false
   },
   "outputs": [
    {
     "data": {
      "application/vnd.jupyter.widget-view+json": {
       "model_id": "48c7413fc89646969b2336e11e3e1455",
       "version_major": 2,
       "version_minor": 0
      },
      "text/plain": [
       "Canvas(toolbar=Toolbar(toolitems=[('Home', 'Reset original view', 'home', 'home'), ('Back', 'Back to previous …"
      ]
     },
     "metadata": {},
     "output_type": "display_data"
    },
    {
     "ename": "NotImplementedError",
     "evalue": "It is not currently possible to manually set the aspect on 3D axes",
     "output_type": "error",
     "traceback": [
      "\u001b[0;31m---------------------------------------------------------------------------\u001b[0m",
      "\u001b[0;31mNotImplementedError\u001b[0m                       Traceback (most recent call last)",
      "\u001b[0;32m<ipython-input-1-129eb2f0f8ed>\u001b[0m in \u001b[0;36m<module>\u001b[0;34m\u001b[0m\n\u001b[1;32m     32\u001b[0m \u001b[0max\u001b[0m\u001b[0;34m.\u001b[0m\u001b[0mset_ylim\u001b[0m\u001b[0;34m(\u001b[0m\u001b[0;34m-\u001b[0m\u001b[0mlimit\u001b[0m\u001b[0;34m,\u001b[0m\u001b[0mlimit\u001b[0m\u001b[0;34m)\u001b[0m\u001b[0;34m\u001b[0m\u001b[0;34m\u001b[0m\u001b[0m\n\u001b[1;32m     33\u001b[0m \u001b[0max\u001b[0m\u001b[0;34m.\u001b[0m\u001b[0mset_zlim\u001b[0m\u001b[0;34m(\u001b[0m\u001b[0;34m-\u001b[0m\u001b[0mlimit\u001b[0m\u001b[0;34m,\u001b[0m\u001b[0mlimit\u001b[0m\u001b[0;34m)\u001b[0m\u001b[0;34m\u001b[0m\u001b[0;34m\u001b[0m\u001b[0m\n\u001b[0;32m---> 34\u001b[0;31m \u001b[0max\u001b[0m\u001b[0;34m.\u001b[0m\u001b[0mset_aspect\u001b[0m\u001b[0;34m(\u001b[0m\u001b[0;34m\"equal\"\u001b[0m\u001b[0;34m)\u001b[0m\u001b[0;34m\u001b[0m\u001b[0;34m\u001b[0m\u001b[0m\n\u001b[0m\u001b[1;32m     35\u001b[0m \u001b[0max\u001b[0m\u001b[0;34m.\u001b[0m\u001b[0mset_xlabel\u001b[0m\u001b[0;34m(\u001b[0m\u001b[0;34m'x'\u001b[0m\u001b[0;34m)\u001b[0m\u001b[0;34m\u001b[0m\u001b[0;34m\u001b[0m\u001b[0m\n\u001b[1;32m     36\u001b[0m \u001b[0max\u001b[0m\u001b[0;34m.\u001b[0m\u001b[0mset_ylabel\u001b[0m\u001b[0;34m(\u001b[0m\u001b[0;34m'y'\u001b[0m\u001b[0;34m)\u001b[0m\u001b[0;34m\u001b[0m\u001b[0;34m\u001b[0m\u001b[0m\n",
      "\u001b[0;32m~/opt/anaconda3/lib/python3.7/site-packages/matplotlib/axes/_base.py\u001b[0m in \u001b[0;36mset_aspect\u001b[0;34m(self, aspect, adjustable, anchor, share)\u001b[0m\n\u001b[1;32m   1279\u001b[0m         \u001b[0;32mif\u001b[0m \u001b[0;34m(\u001b[0m\u001b[0;32mnot\u001b[0m \u001b[0mcbook\u001b[0m\u001b[0;34m.\u001b[0m\u001b[0m_str_equal\u001b[0m\u001b[0;34m(\u001b[0m\u001b[0maspect\u001b[0m\u001b[0;34m,\u001b[0m \u001b[0;34m'auto'\u001b[0m\u001b[0;34m)\u001b[0m\u001b[0;34m)\u001b[0m \u001b[0;32mand\u001b[0m \u001b[0mself\u001b[0m\u001b[0;34m.\u001b[0m\u001b[0mname\u001b[0m \u001b[0;34m==\u001b[0m \u001b[0;34m'3d'\u001b[0m\u001b[0;34m:\u001b[0m\u001b[0;34m\u001b[0m\u001b[0;34m\u001b[0m\u001b[0m\n\u001b[1;32m   1280\u001b[0m             raise NotImplementedError(\n\u001b[0;32m-> 1281\u001b[0;31m                 \u001b[0;34m'It is not currently possible to manually set the aspect '\u001b[0m\u001b[0;34m\u001b[0m\u001b[0;34m\u001b[0m\u001b[0m\n\u001b[0m\u001b[1;32m   1282\u001b[0m                 'on 3D axes')\n\u001b[1;32m   1283\u001b[0m \u001b[0;34m\u001b[0m\u001b[0m\n",
      "\u001b[0;31mNotImplementedError\u001b[0m: It is not currently possible to manually set the aspect on 3D axes"
     ]
    }
   ],
   "source": [
    "%matplotlib widget\n",
    "import ipywidgets as widgets\n",
    "import matplotlib.pyplot as plt\n",
    "import numpy as np\n",
    "from mpl_toolkits.mplot3d import Axes3D\n",
    "from scipy.special import sph_harm \n",
    "\n",
    "#initial values\n",
    "l0 = 0\n",
    "ml0 = 0\n",
    "\n",
    "#create data\n",
    "theta = np.linspace(0, np.pi, 91)\n",
    "phi   = np.linspace(0, 2*np.pi, 181)\n",
    "theta, phi = np.meshgrid(theta, phi)\n",
    "xyz = np.array([np.sin(theta) * np.sin(phi),\n",
    "                np.sin(theta) * np.cos(phi),\n",
    "                np.cos(theta)]) \n",
    "\n",
    "#create plot\n",
    "fig = plt.figure()\n",
    "ax = fig.add_subplot(111, projection='3d')\n",
    "Y_lml = sph_harm(ml0, l0, phi, theta)\n",
    "r = abs(Y_lml.real)*xyz\n",
    "colormap = plt.cm.ScalarMappable( cmap=plt.get_cmap(\"coolwarm\"))\n",
    "colormap.set_clim(-.45, .45)\n",
    "colormap2 = plt.cm.ScalarMappable( cmap=plt.get_cmap(\"summer\"))\n",
    "colormap2.set_clim(-.45, .45)\n",
    "surf = ax.plot_surface(r[0], r[1], r[2], rstride=2, cstride=2, facecolors=colormap.to_rgba(Y_lml.real))\n",
    "limit = 0.6\n",
    "ax.set_xlim(-limit,limit)\n",
    "ax.set_ylim(-limit,limit)\n",
    "ax.set_zlim(-limit,limit)\n",
    "ax.set_aspect(\"equal\")\n",
    "ax.set_xlabel('x')\n",
    "ax.set_ylabel('y')\n",
    "ax.set_zlabel('z')\n",
    "\n",
    "l_slider = widgets.IntSlider(min=0, max=3, value=0)\n",
    "ml_slider = widgets.IntSlider(min=0, max=0)\n",
    "def update_ml_range(*args):\n",
    "    ml_slider.min = -l_slider.value\n",
    "    ml_slider.max = l_slider.value\n",
    "l_slider.observe(update_ml_range, 'value')\n",
    "def update(l=l0, ml=ml0, component='Real'):\n",
    "    global surf, colormap, colormap2\n",
    "    Y_lml = sph_harm(ml, l, phi, theta)\n",
    "    r_real = abs(Y_lml.real)*xyz\n",
    "    r_imag = abs(Y_lml.imag)*xyz\n",
    "    surf.remove()\n",
    "    if component == 'Real':\n",
    "        surf = ax.plot_surface(r_real[0], r_real[1], r_real[2],\n",
    "                                    rstride=2, cstride=2,\n",
    "                                    facecolors=colormap.to_rgba(Y_lml.real))\n",
    "    if component == 'Imaginary':\n",
    "        surf = ax.plot_surface(r_imag[0], r_imag[1], r_imag[2],\n",
    "                                    rstride=2, cstride=2,\n",
    "                                    facecolors=colormap2.to_rgba(Y_lml.imag))\n",
    "    plt.draw()\n",
    "\n",
    "widgets.interact(update,l=l_slider,ml=ml_slider,component=['Real', 'Imaginary'])"
   ]
  },
  {
   "cell_type": "code",
   "execution_count": 2,
   "metadata": {},
   "outputs": [],
   "source": []
  },
  {
   "cell_type": "code",
   "execution_count": null,
   "metadata": {
    "collapsed": true
   },
   "outputs": [],
   "source": []
  }
 ],
 "metadata": {
  "anaconda-cloud": {},
  "kernelspec": {
   "display_name": "Python 3",
   "language": "python",
   "name": "python3"
  },
  "language_info": {
   "codemirror_mode": {
    "name": "ipython",
    "version": 3
   },
   "file_extension": ".py",
   "mimetype": "text/x-python",
   "name": "python",
   "nbconvert_exporter": "python",
   "pygments_lexer": "ipython3",
   "version": "3.7.4"
  }
 },
 "nbformat": 4,
 "nbformat_minor": 1
}
