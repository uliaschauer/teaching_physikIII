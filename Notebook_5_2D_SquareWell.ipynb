{
 "cells": [
  {
   "cell_type": "code",
   "execution_count": null,
   "metadata": {},
   "outputs": [],
   "source": [
    "%matplotlib widget\n",
    "import ipywidgets as widgets\n",
    "import matplotlib.pyplot as plt\n",
    "import numpy as np\n",
    "from mpl_toolkits.mplot3d import Axes3D\n",
    "\n",
    "#initial values\n",
    "n10=2\n",
    "n20=1\n",
    "\n",
    "#create data\n",
    "x = np.arange(0, 1, 0.04)\n",
    "y = np.arange(0, 1, 0.04)\n",
    "x, y = np.meshgrid(x, y)\n",
    "def psi(x, y, n1, n2):\n",
    "    return 2*np.sin(n1*np.pi*x)*np.sin(n2*np.pi*y)\n",
    "z = psi(x, y, n10, n20)\n",
    "\n",
    "#create plot\n",
    "fig = plt.figure()\n",
    "ax = fig.add_subplot(111, projection='3d')\n",
    "surf = ax.plot_surface(x, y, z, rstride=1, cstride=1, cmap=plt.cm.coolwarm, linewidth=0.2)\n",
    "ax.set_xlabel('x')\n",
    "ax.set_ylabel('y')\n",
    "\n",
    "@widgets.interact(n1=(1,5), n2=(1,5))\n",
    "def update(n1=n10, n2=n20):\n",
    "    z = psi(x, y, n1, n2)\n",
    "    global surf\n",
    "    surf.remove()\n",
    "    surf = ax.plot_surface(x, y, z, rstride=1, cstride=1, cmap=plt.cm.coolwarm, linewidth=0.2)\n",
    "    plt.draw()"
   ]
  }
 ],
 "metadata": {
  "anaconda-cloud": {},
  "kernelspec": {
   "display_name": "Python 3",
   "language": "python",
   "name": "python3"
  },
  "language_info": {
   "codemirror_mode": {
    "name": "ipython",
    "version": 3
   },
   "file_extension": ".py",
   "mimetype": "text/x-python",
   "name": "python",
   "nbconvert_exporter": "python",
   "pygments_lexer": "ipython3",
   "version": "3.7.4"
  }
 },
 "nbformat": 4,
 "nbformat_minor": 1
}
