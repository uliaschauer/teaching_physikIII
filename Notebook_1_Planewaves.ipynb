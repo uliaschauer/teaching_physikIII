{
 "cells": [
  {
   "cell_type": "code",
   "execution_count": 2,
   "metadata": {},
   "outputs": [
    {
     "data": {
      "application/vnd.jupyter.widget-view+json": {
       "model_id": "0be9da7eda2b4a0b923e6cf8a08ab4e5",
       "version_major": 2,
       "version_minor": 0
      },
      "text/plain": [
       "Canvas(toolbar=Toolbar(toolitems=[('Home', 'Reset original view', 'home', 'home'), ('Back', 'Back to previous …"
      ]
     },
     "metadata": {},
     "output_type": "display_data"
    },
    {
     "data": {
      "application/vnd.jupyter.widget-view+json": {
       "model_id": "29c85b5b167943599c5b681414e084f7",
       "version_major": 2,
       "version_minor": 0
      },
      "text/plain": [
       "interactive(children=(FloatSlider(value=1.0, description='a', max=1.0, step=0.01), FloatSlider(value=0.0, desc…"
      ]
     },
     "metadata": {},
     "output_type": "display_data"
    }
   ],
   "source": [
    "%matplotlib widget\n",
    "import ipywidgets as widgets\n",
    "import matplotlib.pyplot as plt\n",
    "import numpy as np\n",
    "\n",
    "#initial values\n",
    "a0 = 1\n",
    "b0 = 0\n",
    "k0 = 2\n",
    "\n",
    "#initialize data\n",
    "x = np.arange(0.0, 6.2831853072, 0.01)\n",
    "y_real = a0*np.cos(k0*x)+b0*np.cos(-k0*x)\n",
    "y_imag = a0*np.sin(k0*x)+b0*np.sin(-k0*x)\n",
    "\n",
    "#plot\n",
    "fig, ax = plt.subplots()\n",
    "p_real, = ax.plot(x, y_real, lw=2, color='red', label='Realteil')\n",
    "p_imag, = ax.plot(x, y_imag, lw=2, color='blue', label='Imaginärteil')\n",
    "ax.set_xlim(0, 2*np.pi)\n",
    "ax.set_ylim(-2, 2)\n",
    "ax.set_xlabel('x')\n",
    "ax.set_ylabel('Wellenfunktion')\n",
    "ax.legend(loc='upper right')\n",
    "\n",
    "@widgets.interact(a=(0.0, 1.0, 0.01), b=(0.0, 1.0, 0.01), k=(0.0, 10.0))\n",
    "def update(a=a0, b=b0, k=k0):\n",
    "    p_real.set_ydata(a*np.cos(k*x)+b*np.cos(-k*x))\n",
    "    p_imag.set_ydata(a*np.sin(k*x)+b*np.sin(-k*x))\n",
    "    fig.canvas.draw()\n",
    "    fig.canvas.flush_events()"
   ]
  },
  {
   "cell_type": "code",
   "execution_count": null,
   "metadata": {},
   "outputs": [],
   "source": []
  }
 ],
 "metadata": {
  "anaconda-cloud": {},
  "kernelspec": {
   "display_name": "Python 3",
   "language": "python",
   "name": "python3"
  },
  "language_info": {
   "codemirror_mode": {
    "name": "ipython",
    "version": 3
   },
   "file_extension": ".py",
   "mimetype": "text/x-python",
   "name": "python",
   "nbconvert_exporter": "python",
   "pygments_lexer": "ipython3",
   "version": "3.7.4"
  }
 },
 "nbformat": 4,
 "nbformat_minor": 1
}
