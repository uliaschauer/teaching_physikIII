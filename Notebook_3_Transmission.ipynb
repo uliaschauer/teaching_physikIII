{
 "cells": [
  {
   "cell_type": "code",
   "execution_count": null,
   "metadata": {},
   "outputs": [],
   "source": [
    "%matplotlib widget\n",
    "import ipywidgets as widgets\n",
    "import matplotlib.pyplot as plt\n",
    "import matplotlib.patches as patches\n",
    "import numpy as np\n",
    "\n",
    "#initial values\n",
    "m0 = 2\n",
    "L0 = 1\n",
    "\n",
    "#create plot and data\n",
    "ev1 = np.arange(0.01, 1.0, 0.01)\n",
    "ev2 = np.arange(1.001, 4.0, 0.001)\n",
    "\n",
    "def kappa(EV, m):\n",
    "    return np.sqrt(2*m*(1-EV))\n",
    "def kappa_prime(EV, m):\n",
    "        return np.sqrt(2*m*(EV-1))\n",
    "\n",
    "def T1(EV, m, L):\n",
    "    return 1.0 / (1+(np.exp(kappa(EV, m)*L)-np.exp(-kappa(EV, m))*L)**2/(16*EV*(1-EV)))\n",
    "    \n",
    "def T2(EV, m, L):\n",
    "    return 1.0 / (1+(np.sin(kappa_prime(EV, m)*L))**2/(4*EV*(EV-1)))\n",
    "    \n",
    "t1 = T1(ev1, m0, L0)\n",
    "t2 = T2(ev2, m0, L0)\n",
    "\n",
    "fig, ax = plt.subplots()\n",
    "ax.add_patch(patches.Rectangle((1.0, 0.0), 3.0, 1.0, alpha=0.2))\n",
    "p_real, = ax.plot(ev1, t1, lw=2, color='red')\n",
    "p_imag, = ax.plot(ev2, t2, lw=2, color='red')\n",
    "ax.set_xlim(0, 4)\n",
    "ax.set_ylim(0, 1)\n",
    "ax.set_xlabel('E/V')\n",
    "ax.set_ylabel('Transmissionswahrscheinlichkeit')\n",
    "\n",
    "@widgets.interact(m=(2, 100.0, 1))\n",
    "def update(m=m0):\n",
    "    p_real.set_ydata(T1(ev1, m, L0))\n",
    "    p_imag.set_ydata(T2(ev2, m, L0))"
   ]
  }
 ],
 "metadata": {
  "anaconda-cloud": {},
  "kernelspec": {
   "display_name": "Python 3",
   "language": "python",
   "name": "python3"
  },
  "language_info": {
   "codemirror_mode": {
    "name": "ipython",
    "version": 3
   },
   "file_extension": ".py",
   "mimetype": "text/x-python",
   "name": "python",
   "nbconvert_exporter": "python",
   "pygments_lexer": "ipython3",
   "version": "3.7.4"
  }
 },
 "nbformat": 4,
 "nbformat_minor": 1
}
