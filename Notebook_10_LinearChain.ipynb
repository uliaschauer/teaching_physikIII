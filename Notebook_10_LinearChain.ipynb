{
 "cells": [
  {
   "cell_type": "code",
   "execution_count": 1,
   "metadata": {},
   "outputs": [
    {
     "data": {
      "application/vnd.jupyter.widget-view+json": {
       "model_id": "75c38c8c5f394c90a53fbd3f0bfe8534",
       "version_major": 2,
       "version_minor": 0
      },
      "text/plain": [
       "Canvas(toolbar=Toolbar(toolitems=[('Home', 'Reset original view', 'home', 'home'), ('Back', 'Back to previous …"
      ]
     },
     "metadata": {},
     "output_type": "display_data"
    },
    {
     "data": {
      "application/vnd.jupyter.widget-view+json": {
       "model_id": "2b2cdf87d66a4d71a1086f8d17c9ef32",
       "version_major": 2,
       "version_minor": 0
      },
      "text/plain": [
       "interactive(children=(FloatSlider(value=5.0, description='m1', max=10.0, min=1.0), FloatSlider(value=1.0, desc…"
      ]
     },
     "metadata": {},
     "output_type": "display_data"
    }
   ],
   "source": [
    "%matplotlib widget\n",
    "import ipywidgets as widgets\n",
    "import matplotlib.pyplot as plt\n",
    "import numpy as np\n",
    "\n",
    "#initial values\n",
    "M1=5\n",
    "M2=1\n",
    "f=1\n",
    "a=1\n",
    "\n",
    "#create data   \n",
    "def branches(M1, M2, f, a):\n",
    "    q = np.arange(-np.pi/a, np.pi/a, 0.01)\n",
    "    omega_1 = np.sqrt(f * (1/M1+1/M2) + f * np.sqrt((1/M1+1/M2)**2-4/(M1*M2)*(np.sin(q*a/2))**2))\n",
    "    omega_2 = np.sqrt(f * (1/M1+1/M2) - f * np.sqrt((1/M1+1/M2)**2-4/(M1*M2)*(np.sin(q*a/2))**2))\n",
    "    return q, omega_1, omega_2\n",
    "\n",
    "q, omega_1, omega_2 = branches(M1, M2, f, a)\n",
    "\n",
    "#create plot\n",
    "fig, ax = plt.subplots()\n",
    "curve1, = ax.plot(q, omega_1, lw=2, color='red')\n",
    "curve2, = ax.plot(q, omega_2, lw=2, color='blue')\n",
    "ax.set_xlim(-np.pi/a, np.pi/a)\n",
    "ax.set_ylim(0, ax.get_ylim()[1])\n",
    "ax.set_xlabel('$q$')\n",
    "ax.set_ylabel('$\\omega$')\n",
    "\n",
    "@widgets.interact(m1=(1.0,10.0), m2=(1.0, 10.0), fc=(0.1, 10.0), alat=(1, 5))\n",
    "def update(m1=M1, m2=M2, fc=f, alat=a):\n",
    "    q, omega_1, omega_2 = branches(m1, m2, fc, alat)\n",
    "    curve1.set_xdata(q)\n",
    "    curve1.set_ydata(omega_1)\n",
    "    curve2.set_xdata(q)\n",
    "    curve2.set_ydata(omega_2)"
   ]
  },
  {
   "cell_type": "code",
   "execution_count": null,
   "metadata": {},
   "outputs": [],
   "source": []
  }
 ],
 "metadata": {
  "kernelspec": {
   "display_name": "Python 3",
   "language": "python",
   "name": "python3"
  },
  "language_info": {
   "codemirror_mode": {
    "name": "ipython",
    "version": 3
   },
   "file_extension": ".py",
   "mimetype": "text/x-python",
   "name": "python",
   "nbconvert_exporter": "python",
   "pygments_lexer": "ipython3",
   "version": "3.7.4"
  }
 },
 "nbformat": 4,
 "nbformat_minor": 2
}
