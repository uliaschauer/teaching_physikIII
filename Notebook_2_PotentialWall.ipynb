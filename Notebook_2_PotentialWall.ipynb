{
 "cells": [
  {
   "cell_type": "code",
   "execution_count": null,
   "metadata": {},
   "outputs": [],
   "source": [
    "%matplotlib widget\n",
    "import ipywidgets as widgets\n",
    "import matplotlib.pyplot as plt\n",
    "import matplotlib.patches as patches\n",
    "import numpy as np\n",
    "\n",
    "#initial values\n",
    "E0 = 20\n",
    "V0 = 100\n",
    "a = 1\n",
    "b = 0\n",
    "k = np.sqrt(E0)\n",
    "kp = np.sqrt(V0-E0)\n",
    "\n",
    "#create plot and data\n",
    "x1 = np.arange(-3.141592, 0, 0.001)\n",
    "x2 = np.arange(0, 2, 0.001)\n",
    "y1_real = a*np.cos(k*x1)+b*np.cos(-k*x1)\n",
    "y1_imag = a*np.sin(k*x1)+b*np.sin(-k*x1)\n",
    "y2_real = a * np.exp(-kp*x2)\n",
    "y2_imag = 0*x2\n",
    "\n",
    "fig, ax = plt.subplots()\n",
    "p1_real, = ax.plot(x1, y1_real, lw=2, color='red', label='Real')\n",
    "p1_imag, = ax.plot(x1, y1_imag, lw=2, color='blue', label='Imaginary')\n",
    "p2_real, = ax.plot(x2, y2_real, lw=2, color='red')\n",
    "p2_imag, = ax.plot(x2, y2_imag, lw=2, color='blue')\n",
    "ax.set_xlim(-3.141592, 2)\n",
    "ax.set_ylim(-2, 2)\n",
    "ax.set_xlabel('x')\n",
    "ax.set_ylabel('Wellenfunktion')\n",
    "ax.legend(loc='upper right')\n",
    "ax.add_patch(patches.Rectangle((0.0, -2.0), 2.0, 4.0, alpha=0.2))\n",
    "\n",
    "@widgets.interact(E=(0.0, 200, 1.0), V=(0.0, 100, 1.0))\n",
    "def update(E=E0, V=V0):\n",
    "    k = np.sqrt(E)\n",
    "    p1_real.set_ydata(a*np.cos(k*x1)+b*np.cos(-k*x1))\n",
    "    p1_imag.set_ydata(a*np.sin(k*x1)+b*np.sin(-k*x1))\n",
    "    if E < V:\n",
    "        kp = np.sqrt(V-E)\n",
    "        p2_real.set_ydata(a * np.exp(-kp*x2))\n",
    "        p2_imag.set_ydata(0*x2)\n",
    "    else:\n",
    "        kp = np.sqrt(E-V)\n",
    "        p2_real.set_ydata(a*np.cos(kp*x2)+b*np.cos(-kp*x2))\n",
    "        p2_imag.set_ydata(a*np.sin(kp*x2)+b*np.sin(-kp*x2))"
   ]
  }
 ],
 "metadata": {
  "anaconda-cloud": {},
  "kernelspec": {
   "display_name": "Python 3",
   "language": "python",
   "name": "python3"
  },
  "language_info": {
   "codemirror_mode": {
    "name": "ipython",
    "version": 3
   },
   "file_extension": ".py",
   "mimetype": "text/x-python",
   "name": "python",
   "nbconvert_exporter": "python",
   "pygments_lexer": "ipython3",
   "version": "3.7.4"
  }
 },
 "nbformat": 4,
 "nbformat_minor": 1
}
