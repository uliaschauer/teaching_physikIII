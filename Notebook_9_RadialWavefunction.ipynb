{
 "cells": [
  {
   "cell_type": "code",
   "execution_count": null,
   "metadata": {},
   "outputs": [],
   "source": [
    "%matplotlib widget\n",
    "import ipywidgets as widgets\n",
    "import matplotlib.pyplot as plt\n",
    "import numpy as np\n",
    "\n",
    "#initial values\n",
    "n0=1\n",
    "l0=0\n",
    "Z0=1\n",
    "\n",
    "#create data\n",
    "x = np.arange(0, 16, 0.01)\n",
    "        \n",
    "def R(r, n, l, Z):\n",
    "    a0 = 0.529\n",
    "    rho = 2 * Z * r / (n*a0)\n",
    "    \n",
    "    if n == 1:\n",
    "        if l == 0:\n",
    "            return 2 * np.exp(-rho/2.0)\n",
    "    elif n == 2:\n",
    "        if l == 0:\n",
    "            return np.sqrt(1.0/8.0)*(2-rho) * np.exp(-rho/2.0)\n",
    "        elif l == 1:\n",
    "            return np.sqrt(1.0/24.0)*rho * np.exp(-rho/2.0)\n",
    "    elif n == 3:\n",
    "        if l == 0:\n",
    "            return np.sqrt(1.0/243.0)*(6-6*rho+rho**2) * np.exp(-rho/2.0)\n",
    "        elif l == 1:\n",
    "            return np.sqrt(1.0/486.0)*(4-rho) * rho * np.exp(-rho/2.0)\n",
    "        elif l == 2:\n",
    "            return np.sqrt(1.0/2430.0) * rho**2 * np.exp(-rho/2.0)\n",
    "    \n",
    "    \n",
    "y = R(x, n0, l0, Z0)\n",
    "\n",
    "#create plot\n",
    "fig, ax = plt.subplots()\n",
    "curve1, = ax.plot(x, y, lw=2, color='red')\n",
    "zero, = ax.plot(x, 0*x, lw=1, color='black')\n",
    "ax.set_xlim(0, 16)\n",
    "ax.set_ylim(-0.1, 0.2)\n",
    "ax.set_xlabel('$r (\\AA)$')\n",
    "ax.set_ylabel('$R/(Z/a_0)^{3/2}$')\n",
    "\n",
    "n_slider = widgets.IntSlider(min=1, max=3, value=1)\n",
    "l_slider = widgets.IntSlider(min=0, max=0)\n",
    "z_slider = widgets.IntSlider(min=1, max=10)\n",
    "def update_l_range(*args):\n",
    "    l_slider.max = n_slider.value -1\n",
    "n_slider.observe(update_l_range, 'value')\n",
    "def update(n=n0, l=l0, Z=Z0):\n",
    "    curve1.set_ydata(R(x, n, l, Z))\n",
    "i=widgets.interact(update,n=n_slider,l=l_slider,Z=z_slider)"
   ]
  }
 ],
 "metadata": {
  "anaconda-cloud": {},
  "kernelspec": {
   "display_name": "Python 3",
   "language": "python",
   "name": "python3"
  },
  "language_info": {
   "codemirror_mode": {
    "name": "ipython",
    "version": 3
   },
   "file_extension": ".py",
   "mimetype": "text/x-python",
   "name": "python",
   "nbconvert_exporter": "python",
   "pygments_lexer": "ipython3",
   "version": "3.7.4"
  }
 },
 "nbformat": 4,
 "nbformat_minor": 1
}
